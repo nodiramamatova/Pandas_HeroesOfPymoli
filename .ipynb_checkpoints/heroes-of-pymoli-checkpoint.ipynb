{
 "cells": [
  {
   "cell_type": "markdown",
   "metadata": {},
   "source": [
    "## Unit 4 | Assignment - Pandas, Pandas, Pandas"
   ]
  },
  {
   "cell_type": "markdown",
   "metadata": {},
   "source": [
    "## Option 1: Heroes of Pymoli"
   ]
  },
  {
   "cell_type": "markdown",
   "metadata": {},
   "source": [
    "![Fantasy](../Images/Fantasy.jpg)"
   ]
  },
  {
   "cell_type": "code",
   "execution_count": 11,
   "metadata": {
    "collapsed": false
   },
   "outputs": [
    {
     "data": {
      "text/html": [
       "<div>\n",
       "<style scoped>\n",
       "    .dataframe tbody tr th:only-of-type {\n",
       "        vertical-align: middle;\n",
       "    }\n",
       "\n",
       "    .dataframe tbody tr th {\n",
       "        vertical-align: top;\n",
       "    }\n",
       "\n",
       "    .dataframe thead th {\n",
       "        text-align: right;\n",
       "    }\n",
       "</style>\n",
       "<table border=\"1\" class=\"dataframe\">\n",
       "  <thead>\n",
       "    <tr style=\"text-align: right;\">\n",
       "      <th></th>\n",
       "      <th>Age</th>\n",
       "      <th>Gender</th>\n",
       "      <th>Item ID</th>\n",
       "      <th>Item Name</th>\n",
       "      <th>Price</th>\n",
       "      <th>SN</th>\n",
       "    </tr>\n",
       "  </thead>\n",
       "  <tbody>\n",
       "    <tr>\n",
       "      <th>0</th>\n",
       "      <td>20</td>\n",
       "      <td>Male</td>\n",
       "      <td>93</td>\n",
       "      <td>Apocalyptic Battlescythe</td>\n",
       "      <td>4.49</td>\n",
       "      <td>Iloni35</td>\n",
       "    </tr>\n",
       "    <tr>\n",
       "      <th>1</th>\n",
       "      <td>21</td>\n",
       "      <td>Male</td>\n",
       "      <td>12</td>\n",
       "      <td>Dawne</td>\n",
       "      <td>3.36</td>\n",
       "      <td>Aidaira26</td>\n",
       "    </tr>\n",
       "    <tr>\n",
       "      <th>2</th>\n",
       "      <td>17</td>\n",
       "      <td>Male</td>\n",
       "      <td>5</td>\n",
       "      <td>Putrid Fan</td>\n",
       "      <td>2.63</td>\n",
       "      <td>Irim47</td>\n",
       "    </tr>\n",
       "    <tr>\n",
       "      <th>3</th>\n",
       "      <td>17</td>\n",
       "      <td>Male</td>\n",
       "      <td>123</td>\n",
       "      <td>Twilight's Carver</td>\n",
       "      <td>2.55</td>\n",
       "      <td>Irith83</td>\n",
       "    </tr>\n",
       "    <tr>\n",
       "      <th>4</th>\n",
       "      <td>22</td>\n",
       "      <td>Male</td>\n",
       "      <td>154</td>\n",
       "      <td>Feral Katana</td>\n",
       "      <td>4.11</td>\n",
       "      <td>Philodil43</td>\n",
       "    </tr>\n",
       "  </tbody>\n",
       "</table>\n",
       "</div>"
      ],
      "text/plain": [
       "   Age Gender  Item ID                 Item Name  Price          SN\n",
       "0   20   Male       93  Apocalyptic Battlescythe   4.49     Iloni35\n",
       "1   21   Male       12                     Dawne   3.36   Aidaira26\n",
       "2   17   Male        5                Putrid Fan   2.63      Irim47\n",
       "3   17   Male      123         Twilight's Carver   2.55     Irith83\n",
       "4   22   Male      154              Feral Katana   4.11  Philodil43"
      ]
     },
     "execution_count": 11,
     "metadata": {},
     "output_type": "execute_result"
    }
   ],
   "source": [
    "import os\n",
    "import pandas as pd\n",
    "import json\n",
    "import numpy as np\n",
    "\n",
    "file = \"purchase_data2.json\"\n",
    "\n",
    "with open(file) as data_file:\n",
    "    data = json.load(data_file)\n",
    "    \n",
    "pymoli_pd = pd.DataFrame(data)\n",
    "pymoli_pd.head()    "
   ]
  },
  {
   "cell_type": "markdown",
   "metadata": {},
   "source": [
    "**Player Count**"
   ]
  },
  {
   "cell_type": "markdown",
   "metadata": {},
   "source": [
    "* Total Number of Players"
   ]
  },
  {
   "cell_type": "code",
   "execution_count": 12,
   "metadata": {
    "collapsed": false
   },
   "outputs": [
    {
     "data": {
      "text/html": [
       "<div>\n",
       "<style scoped>\n",
       "    .dataframe tbody tr th:only-of-type {\n",
       "        vertical-align: middle;\n",
       "    }\n",
       "\n",
       "    .dataframe tbody tr th {\n",
       "        vertical-align: top;\n",
       "    }\n",
       "\n",
       "    .dataframe thead th {\n",
       "        text-align: right;\n",
       "    }\n",
       "</style>\n",
       "<table border=\"1\" class=\"dataframe\">\n",
       "  <thead>\n",
       "    <tr style=\"text-align: right;\">\n",
       "      <th></th>\n",
       "      <th>Total Players</th>\n",
       "    </tr>\n",
       "  </thead>\n",
       "  <tbody>\n",
       "    <tr>\n",
       "      <th>0</th>\n",
       "      <td>74</td>\n",
       "    </tr>\n",
       "  </tbody>\n",
       "</table>\n",
       "</div>"
      ],
      "text/plain": [
       "   Total Players\n",
       "0             74"
      ]
     },
     "execution_count": 12,
     "metadata": {},
     "output_type": "execute_result"
    }
   ],
   "source": [
    "total = pymoli_pd['SN'].unique().size\n",
    "total_players = pd.DataFrame({'Total Players': [total]})\n",
    "total_players"
   ]
  },
  {
   "cell_type": "markdown",
   "metadata": {},
   "source": [
    "**Purchasing Analysis (Total)**"
   ]
  },
  {
   "cell_type": "markdown",
   "metadata": {},
   "source": [
    "* Number of Unique Items\n",
    "* Average Purchase Price\n",
    "* Total Number of Purchases\n",
    "* Total Revenue"
   ]
  },
  {
   "cell_type": "code",
   "execution_count": 13,
   "metadata": {
    "collapsed": false
   },
   "outputs": [
    {
     "data": {
      "text/html": [
       "<div>\n",
       "<style scoped>\n",
       "    .dataframe tbody tr th:only-of-type {\n",
       "        vertical-align: middle;\n",
       "    }\n",
       "\n",
       "    .dataframe tbody tr th {\n",
       "        vertical-align: top;\n",
       "    }\n",
       "\n",
       "    .dataframe thead th {\n",
       "        text-align: right;\n",
       "    }\n",
       "</style>\n",
       "<table border=\"1\" class=\"dataframe\">\n",
       "  <thead>\n",
       "    <tr style=\"text-align: right;\">\n",
       "      <th></th>\n",
       "      <th>Number of Unique Items</th>\n",
       "      <th>Average Purchase Price</th>\n",
       "      <th>Total Number of Purchases</th>\n",
       "      <th>Total Revenue</th>\n",
       "    </tr>\n",
       "  </thead>\n",
       "  <tbody>\n",
       "    <tr>\n",
       "      <th>0</th>\n",
       "      <td>63</td>\n",
       "      <td>$2.92</td>\n",
       "      <td>78</td>\n",
       "      <td>$228.10</td>\n",
       "    </tr>\n",
       "  </tbody>\n",
       "</table>\n",
       "</div>"
      ],
      "text/plain": [
       "   Number of Unique Items Average Purchase Price  Total Number of Purchases  \\\n",
       "0                      63                  $2.92                         78   \n",
       "\n",
       "  Total Revenue  \n",
       "0       $228.10  "
      ]
     },
     "execution_count": 13,
     "metadata": {},
     "output_type": "execute_result"
    }
   ],
   "source": [
    "#Number of Unique Items\n",
    "number_of_unique_items = pymoli_pd['Item Name'].value_counts()\n",
    "number =len(number_of_unique_items)\n",
    "\n",
    "# Average Purchase Price\n",
    "avg_price = pymoli_pd['Price'].mean()\n",
    "\n",
    "#Total Number of Purchases\n",
    "total_num_purchase = pymoli_pd['Item Name'].count()\n",
    "\n",
    "#Total Revenue\n",
    "total_revenue = pymoli_pd['Price'].sum()\n",
    "\n",
    "purchasing_analysis_total = pd.DataFrame({'Number of Unique Items': [number],\n",
    "                                          'Average Purchase Price': [avg_price],\n",
    "                                          'Total Number of Purchases': [total_num_purchase], \n",
    "                                          'Total Revenue': [total_revenue]\n",
    "})\n",
    "purchasing_analysis_total = purchasing_analysis_total[['Number of Unique Items',\n",
    "                                                       'Average Purchase Price',\n",
    "                                                       'Total Number of Purchases',\n",
    "                                                        'Total Revenue']]\n",
    "purchasing_analysis_total['Average Purchase Price'] = purchasing_analysis_total['Average Purchase Price'].map(\"${:.2f}\".format)\n",
    "purchasing_analysis_total['Total Revenue'] = purchasing_analysis_total['Total Revenue'].map(\"${:.2f}\".format)\n",
    "\n",
    "purchasing_analysis_total"
   ]
  },
  {
   "cell_type": "markdown",
   "metadata": {},
   "source": [
    "**Gender Demographics**\n",
    "\n",
    "* Percentage and Count of Male Players\n",
    "* Percentage and Count of Female Players\n",
    "* Percentage and Count of Other / Non-Disclosed"
   ]
  },
  {
   "cell_type": "code",
   "execution_count": 14,
   "metadata": {
    "collapsed": false
   },
   "outputs": [
    {
     "data": {
      "text/html": [
       "<div>\n",
       "<style scoped>\n",
       "    .dataframe tbody tr th:only-of-type {\n",
       "        vertical-align: middle;\n",
       "    }\n",
       "\n",
       "    .dataframe tbody tr th {\n",
       "        vertical-align: top;\n",
       "    }\n",
       "\n",
       "    .dataframe thead th {\n",
       "        text-align: right;\n",
       "    }\n",
       "</style>\n",
       "<table border=\"1\" class=\"dataframe\">\n",
       "  <thead>\n",
       "    <tr style=\"text-align: right;\">\n",
       "      <th></th>\n",
       "      <th>Percentage Of Players</th>\n",
       "      <th>Total Count</th>\n",
       "    </tr>\n",
       "    <tr>\n",
       "      <th></th>\n",
       "      <th></th>\n",
       "      <th></th>\n",
       "    </tr>\n",
       "  </thead>\n",
       "  <tbody>\n",
       "    <tr>\n",
       "      <th>Male</th>\n",
       "      <td>86.49%</td>\n",
       "      <td>64</td>\n",
       "    </tr>\n",
       "    <tr>\n",
       "      <th>Female</th>\n",
       "      <td>17.57%</td>\n",
       "      <td>13</td>\n",
       "    </tr>\n",
       "    <tr>\n",
       "      <th>Other / Non-Disclosed</th>\n",
       "      <td>1.35%</td>\n",
       "      <td>1</td>\n",
       "    </tr>\n",
       "  </tbody>\n",
       "</table>\n",
       "</div>"
      ],
      "text/plain": [
       "                      Percentage Of Players  Total Count\n",
       "                                                        \n",
       "Male                                 86.49%           64\n",
       "Female                               17.57%           13\n",
       "Other / Non-Disclosed                 1.35%            1"
      ]
     },
     "execution_count": 14,
     "metadata": {},
     "output_type": "execute_result"
    }
   ],
   "source": [
    "#Percentage and Count of Male Players\n",
    "gender_male = pymoli_pd.loc[pymoli_pd['Gender']  == 'Male',:]\n",
    "gender_male_count = gender_male['Gender'].count()\n",
    "\n",
    "percentage_male = round((gender_male_count/total)* 100, 2)\n",
    "percentage_male\n",
    "\n",
    "#Percentage and Count of Female Players\n",
    "gender_female = pymoli_pd.loc[pymoli_pd['Gender']  == 'Female',:]\n",
    "gender_female_count = gender_female['Gender'].count()\n",
    "\n",
    "percentage_female = round((gender_female_count/total)*100, 2)\n",
    "percentage_female\n",
    "\n",
    "# Percentage and Count of Other / Non-Disclosed\n",
    "gender_other = pymoli_pd.loc[pymoli_pd['Gender']  == 'Other / Non-Disclosed',:]\n",
    "other_nondisclosed_count = gender_other['Gender'].count()\n",
    "\n",
    "pecentage_other = round((other_nondisclosed_count/total)*100,2)\n",
    "pecentage_other\n",
    "\n",
    "\n",
    "gender_demographics_pd = pd.DataFrame({'': ['Male', 'Female','Other / Non-Disclosed'],\n",
    "                                       'Percentage Of Players':  [percentage_male, percentage_female,pecentage_other],\n",
    "                                      'Total Count': [gender_male_count, gender_female_count, other_nondisclosed_count]})\n",
    "\n",
    "gender_demographics_pd['Percentage Of Players'] = gender_demographics_pd['Percentage Of Players'].map(\"{:.2f}%\".format)\n",
    "gender_demographics_pd = gender_demographics_pd.set_index('')\n",
    "gender_demographics_pd\n"
   ]
  },
  {
   "cell_type": "markdown",
   "metadata": {},
   "source": [
    "**Purchasing Analysis (Gender)** \n",
    "\n",
    "* The below each broken by gender\n",
    "  * Purchase Count\n",
    "  * Average Purchase Price\n",
    "  * Total Purchase Value\n",
    "  * Normalized Totals"
   ]
  },
  {
   "cell_type": "code",
   "execution_count": 15,
   "metadata": {
    "collapsed": false
   },
   "outputs": [
    {
     "data": {
      "text/html": [
       "<div>\n",
       "<style scoped>\n",
       "    .dataframe tbody tr th:only-of-type {\n",
       "        vertical-align: middle;\n",
       "    }\n",
       "\n",
       "    .dataframe tbody tr th {\n",
       "        vertical-align: top;\n",
       "    }\n",
       "\n",
       "    .dataframe thead th {\n",
       "        text-align: right;\n",
       "    }\n",
       "</style>\n",
       "<table border=\"1\" class=\"dataframe\">\n",
       "  <thead>\n",
       "    <tr style=\"text-align: right;\">\n",
       "      <th></th>\n",
       "      <th>Purchase Count</th>\n",
       "      <th>Average Purchace Price</th>\n",
       "      <th>Total Purchase Value</th>\n",
       "      <th>Normalized Totals</th>\n",
       "    </tr>\n",
       "    <tr>\n",
       "      <th>Gender</th>\n",
       "      <th></th>\n",
       "      <th></th>\n",
       "      <th></th>\n",
       "      <th></th>\n",
       "    </tr>\n",
       "  </thead>\n",
       "  <tbody>\n",
       "    <tr>\n",
       "      <th>Female</th>\n",
       "      <td>64</td>\n",
       "      <td>$3.18</td>\n",
       "      <td>$41.38</td>\n",
       "      <td>$3.18</td>\n",
       "    </tr>\n",
       "    <tr>\n",
       "      <th>Male</th>\n",
       "      <td>13</td>\n",
       "      <td>$2.88</td>\n",
       "      <td>$184.60</td>\n",
       "      <td>$3.08</td>\n",
       "    </tr>\n",
       "    <tr>\n",
       "      <th>Other / Non-Disclosed</th>\n",
       "      <td>1</td>\n",
       "      <td>$2.12</td>\n",
       "      <td>$2.12</td>\n",
       "      <td>$2.12</td>\n",
       "    </tr>\n",
       "  </tbody>\n",
       "</table>\n",
       "</div>"
      ],
      "text/plain": [
       "                       Purchase Count Average Purchace Price  \\\n",
       "Gender                                                         \n",
       "Female                             64                  $3.18   \n",
       "Male                               13                  $2.88   \n",
       "Other / Non-Disclosed               1                  $2.12   \n",
       "\n",
       "                      Total Purchase Value Normalized Totals  \n",
       "Gender                                                        \n",
       "Female                              $41.38             $3.18  \n",
       "Male                               $184.60             $3.08  \n",
       "Other / Non-Disclosed                $2.12             $2.12  "
      ]
     },
     "execution_count": 15,
     "metadata": {},
     "output_type": "execute_result"
    }
   ],
   "source": [
    "male_purchase_avg = gender_male['Price'].mean()\n",
    "male_purchase_total = gender_male['Price'].sum()\n",
    "\n",
    "female_purchase_avg = gender_female['Price'].mean()\n",
    "female_purchase_total = gender_female['Price'].sum()\n",
    "\n",
    "other_purchase_avg = gender_other['Price'].mean()\n",
    "\n",
    "#Normalized Totals\n",
    "gender_male_SN = gender_male['SN'].unique()\n",
    "gender_male_SN_len = len(gender_male_SN)\n",
    "normalized_male_avg = male_purchase_total/gender_male_SN_len\n",
    "\n",
    "gender_female_SN = gender_female['SN'].unique()\n",
    "gender_female_SN_len = len(gender_female_SN)\n",
    "normalized_female_avg = female_purchase_total/gender_female_SN_len\n",
    "\n",
    "\n",
    "purchasing_analysis_gen_pd = pd.DataFrame({'Gender': ['Female','Male', 'Other / Non-Disclosed'],\n",
    "                                           'Purchase Count': [gender_male_count, gender_female_count,other_nondisclosed_count],\n",
    "                                          'Average Purchace Price': [female_purchase_avg, male_purchase_avg,other_purchase_avg],\n",
    "                                          'Total Purchase Value': [female_purchase_total, male_purchase_total, other_purchase_avg],\n",
    "                                          'Normalized Totals': [ normalized_female_avg, normalized_male_avg, other_purchase_avg]})\n",
    "purchasing_analysis_gen_pd['Average Purchace Price'] = pd.to_numeric(purchasing_analysis_gen_pd['Average Purchace Price']).map(\"${:.2f}\".format)\n",
    "purchasing_analysis_gen_pd['Total Purchase Value'] = pd.to_numeric(purchasing_analysis_gen_pd['Total Purchase Value']).map(\"${:.2f}\".format)\n",
    "purchasing_analysis_gen_pd['Normalized Totals'] = pd.to_numeric(purchasing_analysis_gen_pd['Normalized Totals']).map(\"${:.2f}\".format)\n",
    "purchasing_analysis_gen_pd = purchasing_analysis_gen_pd[['Gender','Purchase Count',\n",
    "                                                         'Average Purchace Price','Total Purchase Value', 'Normalized Totals']]\n",
    "purchasing_analysis_gen_pd.set_index('Gender')\n"
   ]
  },
  {
   "cell_type": "markdown",
   "metadata": {
    "collapsed": true
   },
   "source": [
    "**Age Demographics**\n",
    "\n",
    "* The below each broken into bins of 4 years (i.e. &lt;10, 10-14, 15-19, etc.) \n",
    "  * Purchase Count\n",
    "  * Average Purchase Price\n",
    "  * Total Purchase Value\n",
    "  * Normalized Totals"
   ]
  },
  {
   "cell_type": "code",
   "execution_count": 16,
   "metadata": {
    "collapsed": false
   },
   "outputs": [
    {
     "data": {
      "text/html": [
       "<div>\n",
       "<style scoped>\n",
       "    .dataframe tbody tr th:only-of-type {\n",
       "        vertical-align: middle;\n",
       "    }\n",
       "\n",
       "    .dataframe tbody tr th {\n",
       "        vertical-align: top;\n",
       "    }\n",
       "\n",
       "    .dataframe thead th {\n",
       "        text-align: right;\n",
       "    }\n",
       "</style>\n",
       "<table border=\"1\" class=\"dataframe\">\n",
       "  <thead>\n",
       "    <tr style=\"text-align: right;\">\n",
       "      <th></th>\n",
       "      <th>Age</th>\n",
       "      <th>Gender</th>\n",
       "      <th>Item ID</th>\n",
       "      <th>Item Name</th>\n",
       "      <th>Price</th>\n",
       "      <th>SN</th>\n",
       "      <th>Age Levels</th>\n",
       "    </tr>\n",
       "  </thead>\n",
       "  <tbody>\n",
       "    <tr>\n",
       "      <th>0</th>\n",
       "      <td>20</td>\n",
       "      <td>Male</td>\n",
       "      <td>93</td>\n",
       "      <td>Apocalyptic Battlescythe</td>\n",
       "      <td>4.49</td>\n",
       "      <td>Iloni35</td>\n",
       "      <td>&gt;20</td>\n",
       "    </tr>\n",
       "    <tr>\n",
       "      <th>1</th>\n",
       "      <td>21</td>\n",
       "      <td>Male</td>\n",
       "      <td>12</td>\n",
       "      <td>Dawne</td>\n",
       "      <td>3.36</td>\n",
       "      <td>Aidaira26</td>\n",
       "      <td>&gt;20</td>\n",
       "    </tr>\n",
       "    <tr>\n",
       "      <th>2</th>\n",
       "      <td>17</td>\n",
       "      <td>Male</td>\n",
       "      <td>5</td>\n",
       "      <td>Putrid Fan</td>\n",
       "      <td>2.63</td>\n",
       "      <td>Irim47</td>\n",
       "      <td>15-19</td>\n",
       "    </tr>\n",
       "    <tr>\n",
       "      <th>3</th>\n",
       "      <td>17</td>\n",
       "      <td>Male</td>\n",
       "      <td>123</td>\n",
       "      <td>Twilight's Carver</td>\n",
       "      <td>2.55</td>\n",
       "      <td>Irith83</td>\n",
       "      <td>15-19</td>\n",
       "    </tr>\n",
       "    <tr>\n",
       "      <th>4</th>\n",
       "      <td>22</td>\n",
       "      <td>Male</td>\n",
       "      <td>154</td>\n",
       "      <td>Feral Katana</td>\n",
       "      <td>4.11</td>\n",
       "      <td>Philodil43</td>\n",
       "      <td>&gt;20</td>\n",
       "    </tr>\n",
       "  </tbody>\n",
       "</table>\n",
       "</div>"
      ],
      "text/plain": [
       "   Age Gender  Item ID                 Item Name  Price          SN Age Levels\n",
       "0   20   Male       93  Apocalyptic Battlescythe   4.49     Iloni35        >20\n",
       "1   21   Male       12                     Dawne   3.36   Aidaira26        >20\n",
       "2   17   Male        5                Putrid Fan   2.63      Irim47      15-19\n",
       "3   17   Male      123         Twilight's Carver   2.55     Irith83      15-19\n",
       "4   22   Male      154              Feral Katana   4.11  Philodil43        >20"
      ]
     },
     "execution_count": 16,
     "metadata": {},
     "output_type": "execute_result"
    }
   ],
   "source": [
    "#The below each broken into bins of 4 years (i.e. &lt;10, 10-14, 15-19, etc.) \n",
    "age_bins = [0,10,14,19,100]\n",
    "age_bins_labels = [\"<10\", \"10-14\", \"15-19\", \">20\"]\n",
    "ages = np.array(pymoli_pd['Age'],dtype=\"int\")\n",
    "pymoli_pd['Age Levels'] = pd.cut(ages, age_bins, labels=age_bins_labels)\n",
    "pymoli_pd.head()"
   ]
  },
  {
   "cell_type": "code",
   "execution_count": 17,
   "metadata": {
    "collapsed": false
   },
   "outputs": [
    {
     "data": {
      "text/html": [
       "<div>\n",
       "<style scoped>\n",
       "    .dataframe tbody tr th:only-of-type {\n",
       "        vertical-align: middle;\n",
       "    }\n",
       "\n",
       "    .dataframe tbody tr th {\n",
       "        vertical-align: top;\n",
       "    }\n",
       "\n",
       "    .dataframe thead th {\n",
       "        text-align: right;\n",
       "    }\n",
       "</style>\n",
       "<table border=\"1\" class=\"dataframe\">\n",
       "  <thead>\n",
       "    <tr style=\"text-align: right;\">\n",
       "      <th></th>\n",
       "      <th>Age Levels</th>\n",
       "      <th>Purchase Count</th>\n",
       "      <th>Average Spent</th>\n",
       "      <th>Total Spent</th>\n",
       "      <th>Normalized Totals</th>\n",
       "    </tr>\n",
       "  </thead>\n",
       "  <tbody>\n",
       "    <tr>\n",
       "      <th>0</th>\n",
       "      <td>&lt;10</td>\n",
       "      <td>5</td>\n",
       "      <td>$2.76</td>\n",
       "      <td>$13.82</td>\n",
       "      <td>$2.76</td>\n",
       "    </tr>\n",
       "    <tr>\n",
       "      <th>1</th>\n",
       "      <td>10-14</td>\n",
       "      <td>3</td>\n",
       "      <td>$2.99</td>\n",
       "      <td>$8.96</td>\n",
       "      <td>$2.99</td>\n",
       "    </tr>\n",
       "    <tr>\n",
       "      <th>2</th>\n",
       "      <td>15-19</td>\n",
       "      <td>11</td>\n",
       "      <td>$2.76</td>\n",
       "      <td>$30.41</td>\n",
       "      <td>$2.76</td>\n",
       "    </tr>\n",
       "    <tr>\n",
       "      <th>3</th>\n",
       "      <td>&gt;20</td>\n",
       "      <td>59</td>\n",
       "      <td>$2.96</td>\n",
       "      <td>$174.91</td>\n",
       "      <td>$2.96</td>\n",
       "    </tr>\n",
       "  </tbody>\n",
       "</table>\n",
       "</div>"
      ],
      "text/plain": [
       "  Age Levels  Purchase Count Average Spent Total Spent Normalized Totals\n",
       "0        <10               5         $2.76      $13.82             $2.76\n",
       "1      10-14               3         $2.99       $8.96             $2.99\n",
       "2      15-19              11         $2.76      $30.41             $2.76\n",
       "3        >20              59         $2.96     $174.91             $2.96"
      ]
     },
     "execution_count": 17,
     "metadata": {},
     "output_type": "execute_result"
    }
   ],
   "source": [
    "age_groups = pymoli_pd[['Age Levels', 'SN', 'Price']].groupby(['Age Levels'])\n",
    "age_groups_stats = age_groups.agg({'Price': ['count', 'mean', 'sum']})\n",
    "age_groups_stats.columns = ['Purchase Count', 'Average Spent', 'Total Spent']\n",
    "age_groups_stats[\"Normalized Totals\"] = age_groups_stats['Total Spent'] / age_groups_stats['Purchase Count']  \n",
    "age_groups_stats[\"Normalized Totals\"] = age_groups_stats[\"Normalized Totals\"].map(\"${:.2f}\".format)\n",
    "age_groups_stats['Average Spent'] = age_groups_stats['Average Spent'].map(\"${:.2f}\".format)\n",
    "age_groups_stats['Total Spent'] = age_groups_stats['Total Spent'].map(\"${:.2f}\".format)\n",
    "\n",
    "age_groups_stats.reset_index()"
   ]
  },
  {
   "cell_type": "markdown",
   "metadata": {
    "collapsed": true
   },
   "source": [
    "**Top Spenders**\n",
    "\n",
    "* Identify the the top 5 spenders in the game by total purchase value, then list (in a table):\n",
    "  * SN\n",
    "  * Purchase Count\n",
    "  * Average Purchase Price\n",
    "  * Total Purchase Value"
   ]
  },
  {
   "cell_type": "code",
   "execution_count": 18,
   "metadata": {
    "collapsed": false
   },
   "outputs": [
    {
     "data": {
      "text/html": [
       "<div>\n",
       "<style scoped>\n",
       "    .dataframe tbody tr th:only-of-type {\n",
       "        vertical-align: middle;\n",
       "    }\n",
       "\n",
       "    .dataframe tbody tr th {\n",
       "        vertical-align: top;\n",
       "    }\n",
       "\n",
       "    .dataframe thead th {\n",
       "        text-align: right;\n",
       "    }\n",
       "</style>\n",
       "<table border=\"1\" class=\"dataframe\">\n",
       "  <thead>\n",
       "    <tr style=\"text-align: right;\">\n",
       "      <th></th>\n",
       "      <th>SN</th>\n",
       "      <th>Purchase Count</th>\n",
       "      <th>Average Purchase Price</th>\n",
       "      <th>Total Purchase Value</th>\n",
       "    </tr>\n",
       "  </thead>\n",
       "  <tbody>\n",
       "    <tr>\n",
       "      <th>0</th>\n",
       "      <td>Sundaky74</td>\n",
       "      <td>2</td>\n",
       "      <td>$3.71</td>\n",
       "      <td>$7.41</td>\n",
       "    </tr>\n",
       "    <tr>\n",
       "      <th>1</th>\n",
       "      <td>Aidaira26</td>\n",
       "      <td>2</td>\n",
       "      <td>$2.56</td>\n",
       "      <td>$5.13</td>\n",
       "    </tr>\n",
       "    <tr>\n",
       "      <th>2</th>\n",
       "      <td>Eusty71</td>\n",
       "      <td>1</td>\n",
       "      <td>$4.81</td>\n",
       "      <td>$4.81</td>\n",
       "    </tr>\n",
       "    <tr>\n",
       "      <th>3</th>\n",
       "      <td>Chanirra64</td>\n",
       "      <td>1</td>\n",
       "      <td>$4.78</td>\n",
       "      <td>$4.78</td>\n",
       "    </tr>\n",
       "    <tr>\n",
       "      <th>4</th>\n",
       "      <td>Alarap40</td>\n",
       "      <td>1</td>\n",
       "      <td>$4.71</td>\n",
       "      <td>$4.71</td>\n",
       "    </tr>\n",
       "  </tbody>\n",
       "</table>\n",
       "</div>"
      ],
      "text/plain": [
       "           SN  Purchase Count Average Purchase Price Total Purchase Value\n",
       "0   Sundaky74               2                  $3.71                $7.41\n",
       "1   Aidaira26               2                  $2.56                $5.13\n",
       "2     Eusty71               1                  $4.81                $4.81\n",
       "3  Chanirra64               1                  $4.78                $4.78\n",
       "4    Alarap40               1                  $4.71                $4.71"
      ]
     },
     "execution_count": 18,
     "metadata": {},
     "output_type": "execute_result"
    }
   ],
   "source": [
    "top_spenders = pymoli_pd[['SN', 'Price']].groupby(['SN'])\n",
    "top_spenders_stats = top_spenders.agg({'Price': ['count', 'mean', 'sum']})\n",
    "top_spenders_stats.columns = ['Purchase Count', 'Average Purchase Price', 'Total Purchase Value'] \n",
    "top_spenders_stats['Average Purchase Price'] = top_spenders_stats['Average Purchase Price'].map(\"${:.2f}\".format)\n",
    "top_spenders_stats['Total Purchase Value'] = top_spenders_stats['Total Purchase Value'].map(\"${:.2f}\".format)  \n",
    "\n",
    "top_spenders_stats = top_spenders_stats.sort_values(by=[('Total Purchase Value')],ascending=False)[:5]\n",
    "top_spenders_stats.reset_index()"
   ]
  },
  {
   "cell_type": "markdown",
   "metadata": {},
   "source": [
    "**Most Popular Items**\n",
    "\n",
    "* Identify the 5 most popular items by purchase count, then list (in a table):\n",
    "  * Item ID\n",
    "  * Item Name\n",
    "  * Purchase Count\n",
    "  * Item Price\n",
    "  * Total Purchase Value"
   ]
  },
  {
   "cell_type": "code",
   "execution_count": 19,
   "metadata": {
    "collapsed": false
   },
   "outputs": [
    {
     "data": {
      "text/html": [
       "<div>\n",
       "<style scoped>\n",
       "    .dataframe tbody tr th:only-of-type {\n",
       "        vertical-align: middle;\n",
       "    }\n",
       "\n",
       "    .dataframe tbody tr th {\n",
       "        vertical-align: top;\n",
       "    }\n",
       "\n",
       "    .dataframe thead th {\n",
       "        text-align: right;\n",
       "    }\n",
       "</style>\n",
       "<table border=\"1\" class=\"dataframe\">\n",
       "  <thead>\n",
       "    <tr style=\"text-align: right;\">\n",
       "      <th></th>\n",
       "      <th>Item ID</th>\n",
       "      <th>Item Name</th>\n",
       "      <th>Price</th>\n",
       "      <th>Total Purchase Value</th>\n",
       "      <th>Purchase Count</th>\n",
       "    </tr>\n",
       "  </thead>\n",
       "  <tbody>\n",
       "    <tr>\n",
       "      <th>0</th>\n",
       "      <td>94</td>\n",
       "      <td>Mourning Blade</td>\n",
       "      <td>3.64</td>\n",
       "      <td>$10.92</td>\n",
       "      <td>3</td>\n",
       "    </tr>\n",
       "    <tr>\n",
       "      <th>1</th>\n",
       "      <td>90</td>\n",
       "      <td>Betrayer</td>\n",
       "      <td>4.12</td>\n",
       "      <td>$8.24</td>\n",
       "      <td>2</td>\n",
       "    </tr>\n",
       "    <tr>\n",
       "      <th>2</th>\n",
       "      <td>111</td>\n",
       "      <td>Misery's End</td>\n",
       "      <td>1.79</td>\n",
       "      <td>$3.58</td>\n",
       "      <td>2</td>\n",
       "    </tr>\n",
       "    <tr>\n",
       "      <th>3</th>\n",
       "      <td>64</td>\n",
       "      <td>Fusion Pummel</td>\n",
       "      <td>2.42</td>\n",
       "      <td>$4.84</td>\n",
       "      <td>2</td>\n",
       "    </tr>\n",
       "    <tr>\n",
       "      <th>4</th>\n",
       "      <td>154</td>\n",
       "      <td>Feral Katana</td>\n",
       "      <td>4.11</td>\n",
       "      <td>$8.22</td>\n",
       "      <td>2</td>\n",
       "    </tr>\n",
       "  </tbody>\n",
       "</table>\n",
       "</div>"
      ],
      "text/plain": [
       "   Item ID       Item Name  Price Total Purchase Value  Purchase Count\n",
       "0       94  Mourning Blade   3.64               $10.92               3\n",
       "1       90        Betrayer   4.12                $8.24               2\n",
       "2      111    Misery's End   1.79                $3.58               2\n",
       "3       64   Fusion Pummel   2.42                $4.84               2\n",
       "4      154    Feral Katana   4.11                $8.22               2"
      ]
     },
     "execution_count": 19,
     "metadata": {},
     "output_type": "execute_result"
    }
   ],
   "source": [
    "most_popular = pymoli_pd[['Item ID', 'Item Name', 'Price']].groupby(['Item ID', 'Item Name', 'Price'])  \n",
    "most_popular = most_popular.agg({'Price':['sum', 'count']})\n",
    "most_popular.columns = ['Total Purchase Value', 'Purchase Count']\n",
    "most_popular['Total Purchase Value'] = most_popular['Total Purchase Value'].map(\"${:.2f}\".format)\n",
    "#most_popular['Price'] = most_popular['Price'].map(\"${:.2f}\".format)\n",
    "most_popular = most_popular.sort_values(by=[('Purchase Count')], ascending=False)[:5]\n",
    "most_popular.reset_index()"
   ]
  },
  {
   "cell_type": "markdown",
   "metadata": {
    "collapsed": true
   },
   "source": [
    "**Most Profitable Items**\n",
    "\n",
    "* Identify the 5 most profitable items by total purchase value, then list (in a table):\n",
    "  * Item ID\n",
    "  * Item Name\n",
    "  * Purchase Count\n",
    "  * Item Price\n",
    "  * Total Purchase Value"
   ]
  },
  {
   "cell_type": "code",
   "execution_count": 20,
   "metadata": {
    "collapsed": false
   },
   "outputs": [
    {
     "data": {
      "text/html": [
       "<div>\n",
       "<style scoped>\n",
       "    .dataframe tbody tr th:only-of-type {\n",
       "        vertical-align: middle;\n",
       "    }\n",
       "\n",
       "    .dataframe tbody tr th {\n",
       "        vertical-align: top;\n",
       "    }\n",
       "\n",
       "    .dataframe thead th {\n",
       "        text-align: right;\n",
       "    }\n",
       "</style>\n",
       "<table border=\"1\" class=\"dataframe\">\n",
       "  <thead>\n",
       "    <tr style=\"text-align: right;\">\n",
       "      <th></th>\n",
       "      <th>Item ID</th>\n",
       "      <th>Item Name</th>\n",
       "      <th>Price</th>\n",
       "      <th>Total Purchase Value</th>\n",
       "      <th>Purchase Count</th>\n",
       "    </tr>\n",
       "  </thead>\n",
       "  <tbody>\n",
       "    <tr>\n",
       "      <th>0</th>\n",
       "      <td>94</td>\n",
       "      <td>Mourning Blade</td>\n",
       "      <td>3.64</td>\n",
       "      <td>$10.92</td>\n",
       "      <td>3</td>\n",
       "    </tr>\n",
       "    <tr>\n",
       "      <th>1</th>\n",
       "      <td>90</td>\n",
       "      <td>Betrayer</td>\n",
       "      <td>4.12</td>\n",
       "      <td>$8.24</td>\n",
       "      <td>2</td>\n",
       "    </tr>\n",
       "    <tr>\n",
       "      <th>2</th>\n",
       "      <td>111</td>\n",
       "      <td>Misery's End</td>\n",
       "      <td>1.79</td>\n",
       "      <td>$3.58</td>\n",
       "      <td>2</td>\n",
       "    </tr>\n",
       "    <tr>\n",
       "      <th>3</th>\n",
       "      <td>64</td>\n",
       "      <td>Fusion Pummel</td>\n",
       "      <td>2.42</td>\n",
       "      <td>$4.84</td>\n",
       "      <td>2</td>\n",
       "    </tr>\n",
       "    <tr>\n",
       "      <th>4</th>\n",
       "      <td>154</td>\n",
       "      <td>Feral Katana</td>\n",
       "      <td>4.11</td>\n",
       "      <td>$8.22</td>\n",
       "      <td>2</td>\n",
       "    </tr>\n",
       "  </tbody>\n",
       "</table>\n",
       "</div>"
      ],
      "text/plain": [
       "   Item ID       Item Name  Price Total Purchase Value  Purchase Count\n",
       "0       94  Mourning Blade   3.64               $10.92               3\n",
       "1       90        Betrayer   4.12                $8.24               2\n",
       "2      111    Misery's End   1.79                $3.58               2\n",
       "3       64   Fusion Pummel   2.42                $4.84               2\n",
       "4      154    Feral Katana   4.11                $8.22               2"
      ]
     },
     "execution_count": 20,
     "metadata": {},
     "output_type": "execute_result"
    }
   ],
   "source": [
    "most_popular.sort_values(by=[('Total Purchase Value')], ascending=False)[:5]\n",
    "most_popular.reset_index()"
   ]
  },
  {
   "cell_type": "code",
   "execution_count": null,
   "metadata": {
    "collapsed": true
   },
   "outputs": [],
   "source": []
  }
 ],
 "metadata": {
  "anaconda-cloud": {},
  "kernelspec": {
   "display_name": "Python [conda env:PythonData]",
   "language": "python",
   "name": "conda-env-PythonData-py"
  },
  "language_info": {
   "codemirror_mode": {
    "name": "ipython",
    "version": 3
   },
   "file_extension": ".py",
   "mimetype": "text/x-python",
   "name": "python",
   "nbconvert_exporter": "python",
   "pygments_lexer": "ipython3",
   "version": "3.6.4"
  }
 },
 "nbformat": 4,
 "nbformat_minor": 1
}
